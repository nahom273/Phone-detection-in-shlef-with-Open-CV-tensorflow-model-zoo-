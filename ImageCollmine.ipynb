{
 "cells": [
  {
   "cell_type": "code",
   "execution_count": 2,
   "metadata": {},
   "outputs": [],
   "source": [
    "import cv2\n",
    "import os\n",
    "import uuid\n",
    "import time"
   ]
  },
  {
   "cell_type": "code",
   "execution_count": null,
   "metadata": {},
   "outputs": [],
   "source": []
  },
  {
   "cell_type": "code",
   "execution_count": 15,
   "metadata": {},
   "outputs": [],
   "source": [
    "labels = ['phone','nophone']\n",
    "number_imgs=5"
   ]
  },
  {
   "cell_type": "code",
   "execution_count": 16,
   "metadata": {},
   "outputs": [
    {
     "data": {
      "text/plain": [
       "5"
      ]
     },
     "execution_count": 16,
     "metadata": {},
     "output_type": "execute_result"
    }
   ],
   "source": [
    "number_imgs"
   ]
  },
  {
   "cell_type": "code",
   "execution_count": 17,
   "metadata": {},
   "outputs": [],
   "source": [
    "Images_path = os.path.join('Tensorflow','workspace','images','collectedimages')"
   ]
  },
  {
   "cell_type": "code",
   "execution_count": 18,
   "metadata": {},
   "outputs": [
    {
     "data": {
      "text/plain": [
       "'Tensorflow\\\\workspace\\\\images\\\\collectedimages'"
      ]
     },
     "execution_count": 18,
     "metadata": {},
     "output_type": "execute_result"
    }
   ],
   "source": [
    "Images_path"
   ]
  },
  {
   "cell_type": "code",
   "execution_count": 19,
   "metadata": {},
   "outputs": [],
   "source": [
    "if not os.path.exists(Images_path):\n",
    "    if os.name == 'posix':\n",
    "        !mkdir -p {Images_path}\n",
    "    if os.name == 'nt':\n",
    "        !mkdir -P {Images_path}\n",
    "for label in labels:\n",
    "    path = os.path.join(Images_path, label)\n",
    "    if not os.path.exists(path):\n",
    "        !mkdir {path}"
   ]
  },
  {
   "cell_type": "markdown",
   "metadata": {},
   "source": [
    "\n"
   ]
  },
  {
   "cell_type": "code",
   "execution_count": null,
   "metadata": {},
   "outputs": [],
   "source": []
  },
  {
   "cell_type": "markdown",
   "metadata": {},
   "source": [
    "CApture images"
   ]
  },
  {
   "cell_type": "code",
   "execution_count": 20,
   "metadata": {},
   "outputs": [
    {
     "name": "stdout",
     "output_type": "stream",
     "text": [
      "collecting images for phone\n",
      "collecting image 0\n",
      "collecting image 1\n",
      "collecting image 2\n",
      "collecting image 3\n",
      "collecting image 4\n",
      "collecting images for nophone\n",
      "collecting image 0\n",
      "collecting image 1\n",
      "collecting image 2\n",
      "collecting image 3\n",
      "collecting image 4\n"
     ]
    }
   ],
   "source": [
    "for label in labels:\n",
    "    cap = cv2.VideoCapture(0) # connects with our webcam\n",
    "    print('collecting images for {}'.format(label))\n",
    "    time.sleep(5)\n",
    "    for imgnum in range(number_imgs):\n",
    "        print('collecting image {}'.format(imgnum))\n",
    "        ret, frame = cap.read()\n",
    "        imgname = os.path.join(Images_path,label,label+'.'+'{}.jpg'.format(str(uuid.uuid1())))\n",
    "        cv2.imwrite(imgname,frame)\n",
    "        cv2.imshow('frame',frame)\n",
    "        time.sleep(2)\n",
    "\n",
    "        if cv2.waitKey(1) & 0xFF == ord('q'):\n",
    "            break\n",
    "cap.release()\n",
    "cv2.destroyAllWindows()\n",
    "        "
   ]
  },
  {
   "cell_type": "markdown",
   "metadata": {},
   "source": []
  },
  {
   "cell_type": "code",
   "execution_count": null,
   "metadata": {},
   "outputs": [],
   "source": []
  },
  {
   "cell_type": "code",
   "execution_count": 6,
   "metadata": {},
   "outputs": [],
   "source": [
    "LABELING_PATH = os.path.join('Tensorflow','labelimg')"
   ]
  },
  {
   "cell_type": "markdown",
   "metadata": {},
   "source": []
  },
  {
   "cell_type": "code",
   "execution_count": 9,
   "metadata": {},
   "outputs": [
    {
     "data": {
      "text/plain": [
       "'Tensorflow\\\\labelimg'"
      ]
     },
     "execution_count": 9,
     "metadata": {},
     "output_type": "execute_result"
    }
   ],
   "source": [
    "LABELING_PATH"
   ]
  },
  {
   "cell_type": "code",
   "execution_count": 10,
   "metadata": {},
   "outputs": [],
   "source": [
    "import os\n",
    "\n",
    "LABELING_PATH = os.path.join('Tensorflow', 'labelimg')\n",
    "    \n",
    "if not os.path.exists(LABELING_PATH):\n",
    "    os.makedirs(LABELING_PATH)\n",
    "    os.system(f'git clone https://github.com/tzutalin/labelImg {LABELING_PATH}')\n"
   ]
  },
  {
   "cell_type": "code",
   "execution_count": 11,
   "metadata": {},
   "outputs": [
    {
     "data": {
      "text/plain": [
       "'Tensorflow\\\\labelimg'"
      ]
     },
     "execution_count": 11,
     "metadata": {},
     "output_type": "execute_result"
    }
   ],
   "source": [
    "LABELING_PATH"
   ]
  },
  {
   "cell_type": "code",
   "execution_count": 13,
   "metadata": {},
   "outputs": [],
   "source": [
    "if os.name == \"nt\":\n",
    "    !cd {LABELING_PATH} && pyrcc5 -o libs/resources.py resources.qrc"
   ]
  },
  {
   "cell_type": "code",
   "execution_count": 15,
   "metadata": {},
   "outputs": [
    {
     "name": "stdout",
     "output_type": "stream",
     "text": [
      "Cancel creation.\n",
      "Image:A:\\Projects\\Object Detection\\TFODCourse\\Tensorflow\\workspace\\images\\collectedimages\\nophone\\nophone.4b0894dc-219c-11ef-a173-005056c00008.jpg -> Annotation:A:/Projects/Object Detection/TFODCourse/Tensorflow/workspace/images/collectedimages/nophone\\nophone.4b0894dc-219c-11ef-a173-005056c00008.xml\n",
      "Image:A:\\Projects\\Object Detection\\TFODCourse\\Tensorflow\\workspace\\images\\collectedimages\\nophone\\nophone.49d2feda-219c-11ef-ae0f-005056c00008.jpg -> Annotation:A:/Projects/Object Detection/TFODCourse/Tensorflow/workspace/images/collectedimages/nophone\\nophone.49d2feda-219c-11ef-ae0f-005056c00008.xml\n",
      "Image:A:\\Projects\\Object Detection\\TFODCourse\\Tensorflow\\workspace\\images\\collectedimages\\nophone\\nophone.489d1045-219c-11ef-b4c1-005056c00008.jpg -> Annotation:A:/Projects/Object Detection/TFODCourse/Tensorflow/workspace/images/collectedimages/nophone\\nophone.489d1045-219c-11ef-b4c1-005056c00008.xml\n",
      "Image:A:\\Projects\\Object Detection\\TFODCourse\\Tensorflow\\workspace\\images\\collectedimages\\nophone\\nophone.47674aa6-219c-11ef-9f2b-005056c00008.jpg -> Annotation:A:/Projects/Object Detection/TFODCourse/Tensorflow/workspace/images/collectedimages/nophone\\nophone.47674aa6-219c-11ef-9f2b-005056c00008.xml\n",
      "Image:A:\\Projects\\Object Detection\\TFODCourse\\Tensorflow\\workspace\\images\\collectedimages\\nophone\\nophone.46322866-219c-11ef-a21e-005056c00008.jpg -> Annotation:A:/Projects/Object Detection/TFODCourse/Tensorflow/workspace/images/collectedimages/nophone\\nophone.46322866-219c-11ef-a21e-005056c00008.xml\n",
      "Image:A:\\Projects\\Object Detection\\TFODCourse\\Tensorflow\\workspace\\images\\collectedimages\\nophone\\nophone.47674aa6-219c-11ef-9f2b-005056c00008.jpg -> Annotation:A:/Projects/Object Detection/TFODCourse/Tensorflow/workspace/images/collectedimages/nophone\\nophone.47674aa6-219c-11ef-9f2b-005056c00008.xml\n",
      "Image:A:\\Projects\\Object Detection\\TFODCourse\\Tensorflow\\workspace\\images\\collectedimages\\nophone\\nophone.46322866-219c-11ef-a21e-005056c00008.jpg -> Annotation:A:/Projects/Object Detection/TFODCourse/Tensorflow/workspace/images/collectedimages/nophone\\nophone.46322866-219c-11ef-a21e-005056c00008.xml\n",
      "Image:A:\\Projects\\Object Detection\\TFODCourse\\Tensorflow\\workspace\\images\\collectedimages\\phone\\phone.3a924cff-219c-11ef-a7b4-005056c00008.jpg -> Annotation:A:/Projects/Object Detection/TFODCourse/Tensorflow/workspace/images/collectedimages/phone\\phone.3a924cff-219c-11ef-a7b4-005056c00008.xml\n",
      "Image:A:\\Projects\\Object Detection\\TFODCourse\\Tensorflow\\workspace\\images\\collectedimages\\phone\\phone.3bcd0214-219c-11ef-821a-005056c00008.jpg -> Annotation:A:/Projects/Object Detection/TFODCourse/Tensorflow/workspace/images/collectedimages/phone\\phone.3bcd0214-219c-11ef-821a-005056c00008.xml\n",
      "Image:A:\\Projects\\Object Detection\\TFODCourse\\Tensorflow\\workspace\\images\\collectedimages\\phone\\phone.36ee6579-219c-11ef-beb7-005056c00008.jpg -> Annotation:A:/Projects/Object Detection/TFODCourse/Tensorflow/workspace/images/collectedimages/phone\\phone.36ee6579-219c-11ef-beb7-005056c00008.xml\n",
      "Image:A:\\Projects\\Object Detection\\TFODCourse\\Tensorflow\\workspace\\images\\collectedimages\\phone\\phone.395d6f9d-219c-11ef-bd8f-005056c00008.jpg -> Annotation:A:/Projects/Object Detection/TFODCourse/Tensorflow/workspace/images/collectedimages/phone\\phone.395d6f9d-219c-11ef-bd8f-005056c00008.xml\n",
      "Image:A:\\Projects\\Object Detection\\TFODCourse\\Tensorflow\\workspace\\images\\collectedimages\\phone\\phone.382970ed-219c-11ef-bf33-005056c00008.jpg -> Annotation:A:/Projects/Object Detection/TFODCourse/Tensorflow/workspace/images/collectedimages/phone\\phone.382970ed-219c-11ef-bf33-005056c00008.xml\n"
     ]
    }
   ],
   "source": [
    "\n",
    "!cd {LABELING_PATH} && python labelImg.py\n",
    "\n",
    "\n",
    "\n",
    "\n",
    "\n",
    "\n"
   ]
  },
  {
   "cell_type": "code",
   "execution_count": null,
   "metadata": {},
   "outputs": [],
   "source": []
  },
  {
   "cell_type": "code",
   "execution_count": null,
   "metadata": {},
   "outputs": [],
   "source": []
  }
 ],
 "metadata": {
  "kernelspec": {
   "display_name": "tfod",
   "language": "python",
   "name": "tfod"
  },
  "language_info": {
   "codemirror_mode": {
    "name": "ipython",
    "version": 3
   },
   "file_extension": ".py",
   "mimetype": "text/x-python",
   "name": "python",
   "nbconvert_exporter": "python",
   "pygments_lexer": "ipython3",
   "version": "3.11.9"
  }
 },
 "nbformat": 4,
 "nbformat_minor": 2
}
